{
  "nbformat": 4,
  "nbformat_minor": 0,
  "metadata": {
    "colab": {
      "provenance": []
    },
    "kernelspec": {
      "name": "python3",
      "display_name": "Python 3"
    },
    "language_info": {
      "name": "python"
    }
  },
  "cells": [
    {
      "cell_type": "markdown",
      "source": [
        "Que.1  What is the difference between interpreted and compiled languages?\n",
        "\n",
        "Ans:- Compiled languages translate the entire program into machine code before execution, while interpreted languages execute the code line by line as it's being run.\n",
        "\n",
        "Differences:-\n",
        "\n",
        "**Compiled Languages**:-\n",
        "\n",
        "- A compiler take the entire program in one go.\n",
        "\n",
        "- the compiler genrates an entermidates machine code.\n",
        "\n",
        "- the compiler is best suited for the production enviroment.\n",
        "\n",
        "- the comipler is used by programming language such as C, C++, JAVA etc.\n",
        "\n",
        "**Interpreted language:-**\n",
        "\n",
        "- An interpreted take a single line code at a time.\n",
        "\n",
        "- the interpreter never produces any intermidate machine code.\n",
        "\n",
        "- An interpreter is best suited for a software dovelopment enviroment.\n",
        "\n",
        "- An interpreter is used a programming language such as python, PHP, perl, Ruby\n",
        "  etc.\n",
        "\n",
        "\n",
        "\n"
      ],
      "metadata": {
        "id": "9bvkBtpG44_U"
      }
    },
    {
      "cell_type": "markdown",
      "source": [
        "Que.2 What is exception handling in python?\n",
        "\n",
        "Ans:- When an error (exception) occurs during the execution of a program, we prevent the program from crashing and handle the error properly using messages or alternate actions.\n",
        "\n",
        "The core of exception handling in Python involves the try, except, else, and finally blocks:\n",
        "\n",
        "**try block:**\n",
        "\n",
        "This block contains the code that might raise an exception.\n",
        "\n",
        "**except block:**\n",
        "\n",
        "This block is executed when a specific type of exception (or any exception if no specific type is mentioned) is raised in the try block.\n",
        "\n",
        "**else block:**\n",
        "\n",
        "\n",
        "This block is executed only if no exception occurs within the try block.\n",
        "\n",
        "**Finally block:**\n",
        "\n",
        "This block is always executed, regardless of whether an exception occurred in the try block or not."
      ],
      "metadata": {
        "id": "pluIv_Cd8hEs"
      }
    },
    {
      "cell_type": "markdown",
      "source": [
        "Que.3 What is the purpose of the finally block in exception handling?\n",
        "\n",
        "Ans:- The purpose of the finally block in exception handling is to ensure that a particular block of code is always executed, regardless of whether an exception is thrown in the try block or not, or even if catch blocks are present. It's commonly used for cleanup tasks like closing files, releasing resources, or ensuring database connections are closed.\n",
        "\n",
        "- The finally block in programming, commonly used in languages like Java and C#, is a block of code that is executed regardless of whether an exception is thrown or not.\n",
        "\n",
        "-  It is typically used in conjunction with a try-catch block to ensure certain cleanup or finalization tasks are performed, such as closing resources like files or database connections.\n"
      ],
      "metadata": {
        "id": "DqRkULs8_h1e"
      }
    },
    {
      "cell_type": "markdown",
      "source": [
        "Que.3  What is logging in Python?\n",
        "\n",
        "Ans:- Python logging is a module that allows you to track events that occur while your program is running.\n",
        "\n",
        "- You can use logging to record information about errors, warnings, and other events that occur during program execution. And logging is a useful tool for debugging, troubleshooting, and monitoring your program.\n",
        "\n",
        "**How Does Logging in Python Work**:-\n",
        "\n",
        "Python import logging is a powerful tool for debugging and troubleshooting code.\n",
        "\n",
        "There are three steps to configuring Python logging:\n",
        "\n",
        "- Choose a logger - This is where the object that will actually do the logging.\n",
        "\n",
        "- Configure the logger - This step involves telling the logger to log messages, what format to use, and what level of detail to include.\n",
        "\n",
        "- Use the logger - This step simply involves using the logger object in your code to log messages.\n"
      ],
      "metadata": {
        "id": "e78lJuXgCDDv"
      }
    },
    {
      "cell_type": "markdown",
      "source": [
        "Que.5 What is the significance of the  __del__ method in Python?\n",
        "\n",
        "Ans:- In Python, object-oriented programming provides several special methods that start and end with double underscores, known as \"magic methods\" or \"dunder methods.\n",
        "\n",
        "The __del__ method is a special method in Python that is called when an object is about to be destroyed. It allows you to define specific cleanup actions that should be taken when an object is garbage collected.\n"
      ],
      "metadata": {
        "id": "12ZLudDkDjnu"
      }
    },
    {
      "cell_type": "markdown",
      "source": [
        "Que.6 What is the difference between import and from ... import in Python?\n",
        "\n",
        "Ans:- Python, both import and from ... import are used to bring modules or specific items from modules into your current scope, but they differ in how they make those items accessible:\n",
        "\n",
        "**import module_name**:-\n",
        "\n",
        "- This statement imports the entire module.\n",
        "\n",
        "- You access the module's contents using dot notation. For example, if you import a module named math, you would access its functions and variables like math.sqrt() or math.pi.\n",
        "\n",
        "- It avoids naming conflicts as the module's contents are kept within its own namespace.\n",
        "\n",
        "from module_name import item1, item2, ...\n",
        "\n",
        "- This statement imports specific items (functions, classes, variables) directly from the module into the current namespace.\n",
        "\n",
        "- You can use the imported items directly without dot notation. For example, if you import sqrt from the math module, you would use it as sqrt() instead of math.sqrt().\n",
        "\n",
        "- This can lead to naming conflicts if imported items have the same name as items in the current scope.\n",
        "\n",
        "**from module_name import**\n",
        "\n",
        "- This statement imports all items from the module into the current namespace.\n",
        "It is generally discouraged due to the potential for naming conflicts and reduced code readability.\n",
        "\n",
        "- You won't know where a specific item comes from, making it harder to debug.\n"
      ],
      "metadata": {
        "id": "whQUtLLjjeox"
      }
    },
    {
      "cell_type": "markdown",
      "source": [
        "Que.7  How can you handle multiple exceptions in Python?\n",
        "\n",
        "Ans:- Python Exception Handling handles errors that occur during the execution of a program. Exception handling allows to respond to the error, instead of crashing the running program.\n",
        "\n",
        "**BaseException**\n",
        "- The base class for all built-in exceptions.\n",
        "\n",
        "[**exceptions**]\n",
        "\n",
        "**Using a tuple of exceptions:**\n",
        "- A single except block can handle multiple exceptions by listing them within a tuple.\n",
        "- This is useful when different exceptions require the same handling logic.\n",
        "\n",
        "**Using multiple except blocks:**\n",
        "- Multiple except blocks can be used to handle different exceptions individually.\n",
        "- This allows for specific handling logic for each type of exception.\n",
        "\n",
        "**Using a parent exception class:**\n",
        "\n",
        "- A parent exception class, such as Exception, can be used to catch multiple exceptions that inherit from it.\n",
        "\n",
        "- This is useful for catching a broad range of exceptions with similar handling.\n",
        "\n",
        "**Using except**\n",
        "- The except* clause can be used to handle multiple exceptions grouped using ExceptionGroup.\n",
        "\n",
        "- This allows for selective handling of exceptions within the group.\n",
        "\n",
        "**Using else and finally blocks:**\n",
        "\n",
        "- The else block can be used to execute code if no exception occurs.\n",
        "- The finally block can be used to execute code regardless of whether an exception occurred.\n",
        "\n"
      ],
      "metadata": {
        "id": "tDiVXjSPlfK2"
      }
    },
    {
      "cell_type": "markdown",
      "source": [
        "Que.8 What is the purpose of the with statement when handling files in Python?\n",
        "\n",
        "Ans:- The with statement in Python is used for resource management and exception handling. It simplifies working with resources like files, network connections and database connections by ensuring they are properly acquired and released.\n",
        "- When we open a file, we need to close it ourself using close(). But if something goes wrong before closing, the file might stay open, causing issues. Using with open() automatically closes the file when we're done, even if an error happens.\n",
        "\n",
        "**how it works:**\n",
        "\n",
        "**Resource Acquisition:**\n",
        "The with statement begins by opening the file using the open() function.\n",
        "\n",
        "**Context Management:**\n",
        "The with statement creates a context manager, an object with __enter__ and __exit__ methods.\n",
        "\n",
        "**Code Execution:**\n",
        "The code block within the with statement is executed, allowing you to interact with the file.\n",
        "\n",
        "**Resource Release:**\n",
        "Once the code block finishes, the __exit__ method of the context manager is automatically called, which closes the file.\n"
      ],
      "metadata": {
        "id": "WEiiNcHVqDNv"
      }
    },
    {
      "cell_type": "markdown",
      "source": [
        "Que.9 What is the difference between multithreading and multiprocessing?\n",
        "\n",
        "Ans:- Multithreading involves creating multiple threads within a single process, allowing them to share the same memory space.\n",
        "- This refers to the ability of a processor to execute multiple threads concurrently, where each thread runs a process.\n",
        "\n",
        "Multiprocessing, on the other hand, involves running multiple processes, each with its own separate memory space.\n",
        "\n",
        "\n",
        "**Multithrading:-**\n",
        "- This refers to the ability of a system to run multiple processors in parallel, where each processor can run one or more threads.\n",
        "\n",
        "- Multithreading is creating and starting threads co execute a task within a single process.\n",
        "\n",
        "- Multithreading costs less to set up and use.\n",
        "\n",
        "- Multithreading is handled by an interpreter. In program languages like Python, it is handled Dy a Cpython interpreter.\n",
        "\n",
        "- Multithreading works dependently so it has a shared memory space.\n",
        "\n",
        "- Multithreading handles input/output tasks such as database queries, web server requests, or any data processing that nvolves shared data.\n",
        "\n",
        "- Multithreading is less complex because it uns in the same process.\n",
        "\n",
        "**Multiprocessing**\n",
        "\n",
        "- Multiprocessing is executing multiple processes within a multi-core CPU.\n",
        "\n",
        "- Multiprocessing costs more to set up and use.\n",
        "\n",
        "- Multiprocessing is generally handled by an Operating System.\n",
        "\n",
        "- Multiprocessing works independently so it has separate memory space.\n",
        "\n",
        "- Multiprocessing handles CPU tasks such as high-level computing, scientific computing, etc.\n",
        "\n",
        "- Multiprocessing is more complex because it runs on separate processes.\n",
        "\n",
        "\n"
      ],
      "metadata": {
        "id": "pgyaY36zrqRD"
      }
    },
    {
      "cell_type": "markdown",
      "source": [
        "Que.10 What are the advantages of using logging in a program?\n",
        "\n",
        "Ans:- Logging is a means of tracking events that happen when some software runs. Logging is important for software developing, debugging, and running. If you don't have any logging record and your program crashes, there are very few chances that you detect the cause of the problem.\n",
        "\n",
        "**Advantages of Logging:**\n",
        "\n",
        "**Debugging:**\n",
        "It helps developers track down and fix errors or bugs by providing insights into the program's state and execution flow.\n",
        "\n",
        "**Monitoring:**\n",
        "Logs can be used to monitor the program's performance and identify potential issues in a production environment.\n",
        "\n",
        "**Audit Trails:**\n",
        "Logs can create a record of events, which can be useful for auditing and security purposes.\n",
        "\n",
        "**Documentation:**\n",
        "Good logging can serve as a form of documentation, making it easier for other developers to understand and maintain the code.\n",
        "\n",
        "**Performance Optimization:**\n",
        "By analyzing logs, developers can identify performance bottlenecks and optimize the program's execution.\n",
        "\n",
        "\n"
      ],
      "metadata": {
        "id": "e-HLrGRWugmJ"
      }
    },
    {
      "cell_type": "markdown",
      "source": [
        "Que.11 What is memory management in Python?\n",
        "\n",
        "Ans:- Understanding Memory allocation is important to any software developer as writing efficient code means writing a memory-efficient code. Memory allocation can be defined as allocating a block of space in the computer memory to a program.\n",
        "\n",
        "**Automatic Memory Management:**\n",
        "Python automatically manages memory, relieving programmers from manual memory allocation and deallocation.\n",
        "- This is done through a combination of techniques.\n",
        "\n",
        "**Reference Counting:**\n",
        "Python uses reference counting to track how many references point to an object.\n",
        "When an object's reference count drops to zero (meaning no more references exist), the memory occupied by that object is automatically deallocated.\n",
        "\n",
        "**Garbage Collection:**\n",
        "Python's garbage collector handles cyclic references, which reference counting alone cannot resolve.\n",
        "- It identifies and reclaims memory occupied by objects that are no longer reachable by the program.\n",
        "\n",
        "**Memory Allocation:**\n",
        "Memory allocation is the process of granting and allocating memory when an application requests it.\n",
        "- The Python runtime automatically allocates memory for objects, such as lists, dictionaries, and so on.\n",
        "\n",
        "**Object-Specific Allocators:**\n",
        "Python uses object-specific allocators to manage memory for different types of objects efficiently.\n",
        "This optimization improves performance."
      ],
      "metadata": {
        "id": "dcPhWqJ8rxE8"
      }
    },
    {
      "cell_type": "code",
      "source": [
        "#Que.12\n",
        "\n",
        "try:\n",
        "    number = int(input(\"Enter a number: \"))\n",
        "    result = 10 / number\n",
        "    print(\"Result:\", result)\n",
        "\n",
        "    items = [1, 2, 3]\n",
        "    print(\"Item at index 5:\", items[5])\n",
        "\n",
        "\n",
        "except ValueError:\n",
        "    print(\" ValueError: Please enter a valid number.\")\n",
        "\n",
        "except ZeroDivisionError:\n",
        "    print(\" ZeroDivisionError: Cannot divide by zero.\")\n",
        "\n",
        "except IndexError:\n",
        "    print(\" IndexError: The index you accessed is out of range.\")\n",
        "\n",
        "except Exception as e:\n",
        "    print(\" Some other error occurred:\", e)\n",
        "\n",
        "finally:\n",
        "    print(\" Program finished.\")\n"
      ],
      "metadata": {
        "colab": {
          "base_uri": "https://localhost:8080/"
        },
        "id": "Ix6dudXIFTPe",
        "outputId": "ccfcf8ba-064a-468f-a8a7-a3d12c9e19ac"
      },
      "execution_count": null,
      "outputs": [
        {
          "output_type": "stream",
          "name": "stdout",
          "text": [
            "Enter a number: 159\n",
            "Result: 0.06289308176100629\n",
            " IndexError: The index you accessed is out of range.\n",
            " Program finished.\n"
          ]
        }
      ]
    },
    {
      "cell_type": "code",
      "execution_count": null,
      "metadata": {
        "id": "ecK1GzOh4yxB",
        "colab": {
          "base_uri": "https://localhost:8080/"
        },
        "outputId": "dc168659-3387-41dc-ae61-3ee37b1f1424"
      },
      "outputs": [
        {
          "output_type": "stream",
          "name": "stdout",
          "text": [
            " File does not exist.\n"
          ]
        }
      ],
      "source": [
        "#Que.13 Determine which parts of your code might raise exceptions.\n",
        " #This could involve operations like file I/O,\n",
        " #network connections, or mathematical calculations that could lead to errors like FileNotFoundError, TypeError, or ZeroDivisionError.\n",
        "\n",
        "import os\n",
        "\n",
        "file_path = \"example.txt\"\n",
        "\n",
        "if os.path.exists(file_path):\n",
        "    with open(file_path, 'r') as file:\n",
        "        content = file.read()\n",
        "        print(content)\n",
        "else:\n",
        "    print(\" File does not exist.\")\n",
        "\n",
        "\n"
      ]
    },
    {
      "cell_type": "markdown",
      "source": [
        "Que.14 What is the role of try and except in exception handling?\n",
        "\n",
        "Ans:- In Python, errors and exceptions can interrupt the execution of program. Python provides try and except blocks to handle situations like this. In case an error occurs in try-block, Python stops executing try block and jumps to exception block. These blocks let you handle the errors without crashing the program.\n",
        "\n",
        "**Try Except in Python**\n",
        "\n",
        "**try block:**\n",
        "This block contains the code that the program will attempt to execute. If an exception occurs within the try block, the execution immediately jumps to the corresponding except block.\n",
        "\n",
        "**except block:**\n",
        "This block is executed only if an exception is raised within the preceding try block. It provides a mechanism to handle the exception gracefully, such as logging the error, taking corrective action, or allowing the program to continue execution.\n",
        "\n",
        "\n"
      ],
      "metadata": {
        "id": "X6EUyOUH21VL"
      }
    },
    {
      "cell_type": "markdown",
      "source": [
        "Que.15 How does Python's garbage collection system work?\n",
        "\n",
        "Ans:- Python uses a hybrid garbage collection system combining reference counting and generational garbage collection to manage memory effectively.\n",
        "\n",
        "**Reference Counting:**\n",
        "\n",
        "- Each object in Python has a reference count, indicating how many variables or containers (like lists or dictionaries) are currently referencing it.\n",
        "- When an object is created, its reference count starts at 1.\n",
        "Each time a new variable or container refers to the object, its reference count increases.\n",
        "\n",
        "**Generational Garbage Collection:**\n",
        "\n",
        "- To handle circular references, Python employs a generational garbage collector that uses a \"mark-and-sweep\" algorithm.\n",
        "\n",
        "- This algorithm identifies objects that are no longer reachable by tracing from a set of root objects (like variables in the global scope) and marking all objects that are part of the reachable graph.\n"
      ],
      "metadata": {
        "id": "v1CbO2tpCcOp"
      }
    },
    {
      "cell_type": "markdown",
      "source": [
        "Que.15 What is the purpose of the else block in exception handling?\n",
        "\n",
        "Ans:- The else block in exception handling, when used in conjunction with try and except, executes code only if no exceptions are raised within the try block. It allows for specific actions to be performed when the try block succeeds, improving program flow and readability by separating normal execution from exception handling\n",
        "\n",
        "\n",
        "\n",
        "\n",
        "\n"
      ],
      "metadata": {
        "id": "-8-PlVeYDgRL"
      }
    },
    {
      "cell_type": "markdown",
      "source": [
        "Que.17 What are the common logging levels in Python?\n",
        "\n",
        "Ans:- Here are the common logging levels in Python, from least to most severe:\n",
        "\n",
        "**DEBUG:** Detailed information, typically used for diagnosing problems.\n",
        "\n",
        "**INFO:** Confirmation that the application is working as expected.\n",
        "\n",
        "**WARNING:** An indication that something unexpected happened, or a potential problem might arise soon.\n",
        "\n",
        "**ERROR:** A significant issue has occurred, preventing certain functions from executing.\n",
        "\n",
        "**CRITICAL:** A severe error that suggests the program may be unable to continue running."
      ],
      "metadata": {
        "id": "OlP9yu9uHiaz"
      }
    },
    {
      "cell_type": "markdown",
      "source": [
        "Que.18 What is the difference between os.fork() and multiprocessing in Python?\n",
        "\n",
        "Ans:- ***os.fork()\t***\n",
        "\n",
        "Origin:- Low-level system call (UNIX/Linux only)\n",
        "\n",
        "Abstraction:- Low-level – you manually handle everything\n",
        "\n",
        "Use case:- For system-level process control (advanced users)\n",
        "\n",
        "Data sharing:- No built-in mechanism to share data\n",
        "\n",
        "Code structure:- Harder to maintain/debug\n",
        "\n",
        "Process creation:- Uses fork() system call to duplicate process.\n",
        "\n",
        "**Multiprocessing Module:-**\n",
        "\n",
        "Origin:- High-level Python module.\n",
        "\n",
        "Abstraction:-High-level – easy to use, manages many things for you\n",
        "\n",
        "Use case:- For general-purpose parallelism in Python apps\n",
        "\n",
        "Data sharing:- Offers tools like Queue, Pipe, Manager for sharing data\n",
        "\n",
        "Code structure:- Cleaner and easier to read/maintain\n",
        "\n",
        "Process creation:- Uses Process class to start a new process\n",
        "\n",
        "\n"
      ],
      "metadata": {
        "id": "K9C9ALTbI05s"
      }
    },
    {
      "cell_type": "markdown",
      "source": [
        "Que.19 What is the importance of closing a file in Python?\n",
        "\n",
        "Ans:- Closing files in Python is an essential practice that helps maintain data integrity, prevent resource leaks, and ensure the reliability of your applications. By mastering file handling techniques, you can write more robust and efficient Python code that effectively manages file resources.\n",
        "\n",
        "***Memory leak:- ***\n",
        "\n",
        "- When a file is opened, the operating system allocates resources to manage it. If files are not closed, these resources remain allocated, potentially leading to memory leaks and performance issues.\n",
        "\n",
        "**File Handles:**\n",
        "\n",
        "- Operating systems have limits on the number of files that can be open simultaneously.\n",
        "\n",
        "**Data Integrity:**\n",
        "\n",
        "**Data Loss:**\n",
        "\n",
        "Data written to a file is not always immediately saved to the disk. It may be buffered in memory.\n",
        "\n",
        "**Data Corruption:**\n",
        "If a program crashes or terminates unexpectedly before closing a file, the data may not be fully written, leading to incomplete or corrupted data.\n",
        "\n",
        "***File Access: ***\n",
        "File Locking: Some operations, such as writing to a file, require exclusive access.\n",
        "\n",
        "\n"
      ],
      "metadata": {
        "id": "pN43bk0NLOPX"
      }
    },
    {
      "cell_type": "markdown",
      "source": [
        "Que.20 What is the difference between file.read() and file.readline() in Python?\n",
        "\n",
        "Ans:- file.read() and file.readline() in Python:\n",
        "\n",
        "**file.read()**\n",
        "\n",
        "Reads the entire file content as a single string.\n",
        "If a size argument is provided, it reads up to that many bytes/characters.\n",
        "Suitable for small to medium-sized files where loading the entire content into memory is not an issue.\n",
        "\n",
        "**file.readline()**\n",
        "\n",
        "Reads a single line from the file, including the newline character (\\n).\n",
        "Returns an empty string if the end of the file is reached.\n",
        "Useful for processing files line by line, especially when dealing with large files that might not fit into memory.\n",
        "\n"
      ],
      "metadata": {
        "id": "KP_vVrfFM9Ln"
      }
    },
    {
      "cell_type": "markdown",
      "source": [
        "Que.21 What is the logging module in Python used for?\n",
        "\n",
        "Ans. he logging module in Python is a standard library feature used for tracking events, debugging issues, and monitoring the health of applications. It provides a flexible way to record information about errors, warnings, and other events that occur during program execution.\n",
        "\n",
        " ***the Logging Module: ***\n",
        "\n",
        " Tracking events:\n",
        "Logging allows you to record what happens during the execution of your code, helping you understand the flow of your application.\n",
        "\n",
        "**Debugging:**\n",
        "By logging relevant information, you can easily identify the root cause of errors and bugs.\n",
        "\n",
        "**Troubleshooting:**\n",
        "Logging provides insights into application behavior, enabling you to troubleshoot issues effectively.\n",
        "\n",
        "**Monitoring:**\n",
        "Logging can be used to monitor the health of your application, including performance, errors, and user behavior.\n",
        "\n",
        "**Auditing:**\n",
        "Logging can also be used to track user transactions and other events for auditing purposes.\n"
      ],
      "metadata": {
        "id": "Na7g4NgkNdXJ"
      }
    },
    {
      "cell_type": "markdown",
      "source": [
        " Que.22 What is the os module in Python used for in file handling?\n",
        "\n",
        " Ans:- The os module in Python is used to interact with the operating system, and it's especially useful for file and directory handling.\n",
        "\n",
        " The os module in Python is part of the standard library, and it provides functions to interact with the operating system.\n",
        "It allows Python code to work with files, directories, and system paths in a platform-independent way (works on Windows, Linux, macOS).\n",
        "\n",
        "**Role of os Module in File Handling:-**\n",
        "\n",
        "Check if a file exists or not\n",
        "\n",
        "Create or delete folders\n",
        "\n",
        "Rename files or folders\n",
        "\n",
        "Change the current working directory\n",
        "\n",
        "List files inside a folder"
      ],
      "metadata": {
        "id": "C5hWJD-TOSq1"
      }
    },
    {
      "cell_type": "markdown",
      "source": [
        "Que.23 What are the challenges associated with memory management in Python?\n",
        "\n",
        "Ans:-  the challenges associated with memory management in Python is  automatic memory management simplifies development but presents unique challenges.\n",
        "\n",
        "Understanding Memory Management in Python:-\n",
        "\n",
        "- Understanding Memory allocation is important to any software developer as writing efficient code means writing a memory-efficient code. Memory allocation can be defined as allocating a block of space in the computer memory to a program.\n",
        "\n",
        "\n"
      ],
      "metadata": {
        "id": "Bf0eRGFpPQ0d"
      }
    },
    {
      "cell_type": "markdown",
      "source": [
        "Que.24 How do you raise an exception manually in Python?\n",
        "\n",
        "Ans:- In Python, exceptions can be raised manually using the raise statement. This allows developers to trigger specific errors or exceptional conditions within their code.\n",
        "The basic syntax involves the raise keyword followed by an exception type, optionally with a message.\n",
        "\n",
        "-  when something goes wrong during program execution (like dividing by zero or accessing a file that doesn’t exist), Python automatically raises an exception.\n",
        "But sometimes, as a programmer, you may want to create your own error in special situations. For this, you use the raise keyword.\n",
        "\n",
        "***Raise an Exception ***\n",
        "\n",
        "-  You want to stop program execution if certain conditions are not met.\n",
        "\n",
        "- You want to give a custom error message to the user.\n",
        "\n",
        "- You want to enforce some rules or restrictions in your program.\n",
        "\n",
        "- You want to raise a custom error type for better debugging.\n",
        "\n",
        "Que.25 Why is it important to use multithreading in certain applications?\n",
        "\n",
        "Ans:- A thread is the smallest unit of a process that can be scheduled for execution.\n",
        "In multithreading, multiple threads share the same memory space but can run concurrently.\n",
        "\n",
        "- Multithreading is crucial for applications needing to perform multiple tasks simultaneously or to improve responsiveness and resource utilization. By dividing tasks into threads, applications can run faster, handle multiple requests concurrently, and make better use of CPU cores.\n",
        "\n",
        "\n"
      ],
      "metadata": {
        "id": "IkmQqSNPb8M0"
      }
    },
    {
      "cell_type": "code",
      "source": [
        "#Que.1\n",
        "\n",
        "file = open(\"filename.txt\", \"w\")  # 'w' for write mode\n",
        "file.write(\"This is a string.\")\n",
        "file.close()\n"
      ],
      "metadata": {
        "id": "SlE5-IhP6YvR"
      },
      "execution_count": 2,
      "outputs": []
    },
    {
      "cell_type": "code",
      "source": [
        "#Que.2\n",
        "file = open(\"filename.txt\", \"r\")  # 'r' for read mode\n",
        "file.close()"
      ],
      "metadata": {
        "id": "GdK4-lr4AE4u"
      },
      "execution_count": 19,
      "outputs": []
    },
    {
      "cell_type": "code",
      "source": [
        "#Que.3 #Handling FileNotFoundError\n",
        "\n",
        "try:\n",
        "    with open(\"myfile.txt\", \"r\") as file:\n",
        "        content = file.read()\n",
        "        print(content)\n",
        "\n",
        "except FileNotFoundError:\n",
        "    print()\n",
        "\n"
      ],
      "metadata": {
        "colab": {
          "base_uri": "https://localhost:8080/"
        },
        "id": "cCDBNRxLGCij",
        "outputId": "6a4630b1-871f-4454-92ae-f5531f35a577"
      },
      "execution_count": 22,
      "outputs": [
        {
          "output_type": "stream",
          "name": "stdout",
          "text": [
            "\n"
          ]
        }
      ]
    },
    {
      "cell_type": "code",
      "source": [
        "#User to Create the File\n",
        "\n",
        "try:\n",
        "    with open(\"myfile.txt\", \"r\") as file:\n",
        "        print(file.read())\n",
        "\n",
        "except FileNotFoundError:\n",
        "    print(\"File not found! Creating a new one...\")\n",
        "    with open(\"myfile.txt\", \"w\") as file:\n",
        "        file.write(\"This is a new file.\")\n"
      ],
      "metadata": {
        "colab": {
          "base_uri": "https://localhost:8080/"
        },
        "id": "bsneFSEXJCSv",
        "outputId": "29ef6148-cc7f-4ffa-f18a-376eb7c00885"
      },
      "execution_count": 23,
      "outputs": [
        {
          "output_type": "stream",
          "name": "stdout",
          "text": [
            "File not found! Creating a new one...\n"
          ]
        }
      ]
    },
    {
      "cell_type": "code",
      "source": [
        "#Que.4  Python script that reads from one file and writes its content to another file\n",
        "\n",
        "# Open the source file in read mode\n",
        "with open(\"source.txt\", \"r\") as source_file:\n",
        "    content = source_file.read()  # Read all content\n",
        "\n",
        "# Open the destination file in write mode\n",
        "with open(\"destination.txt\", \"w\") as destination_file:\n",
        "    destination_file.write(content)  # Write the content\n"
      ],
      "metadata": {
        "colab": {
          "base_uri": "https://localhost:8080/",
          "height": 211
        },
        "id": "eV11NJ8EJZ1Y",
        "outputId": "353bf36d-a468-4f8e-ac62-3274119cf802"
      },
      "execution_count": 25,
      "outputs": [
        {
          "output_type": "error",
          "ename": "FileNotFoundError",
          "evalue": "[Errno 2] No such file or directory: 'source.txt'",
          "traceback": [
            "\u001b[0;31m---------------------------------------------------------------------------\u001b[0m",
            "\u001b[0;31mFileNotFoundError\u001b[0m                         Traceback (most recent call last)",
            "\u001b[0;32m<ipython-input-25-f3b684512088>\u001b[0m in \u001b[0;36m<cell line: 0>\u001b[0;34m()\u001b[0m\n\u001b[1;32m      2\u001b[0m \u001b[0;34m\u001b[0m\u001b[0m\n\u001b[1;32m      3\u001b[0m \u001b[0;31m# Open the source file in read mode\u001b[0m\u001b[0;34m\u001b[0m\u001b[0;34m\u001b[0m\u001b[0m\n\u001b[0;32m----> 4\u001b[0;31m \u001b[0;32mwith\u001b[0m \u001b[0mopen\u001b[0m\u001b[0;34m(\u001b[0m\u001b[0;34m\"source.txt\"\u001b[0m\u001b[0;34m,\u001b[0m \u001b[0;34m\"r\"\u001b[0m\u001b[0;34m)\u001b[0m \u001b[0;32mas\u001b[0m \u001b[0msource_file\u001b[0m\u001b[0;34m:\u001b[0m\u001b[0;34m\u001b[0m\u001b[0;34m\u001b[0m\u001b[0m\n\u001b[0m\u001b[1;32m      5\u001b[0m     \u001b[0mcontent\u001b[0m \u001b[0;34m=\u001b[0m \u001b[0msource_file\u001b[0m\u001b[0;34m.\u001b[0m\u001b[0mread\u001b[0m\u001b[0;34m(\u001b[0m\u001b[0;34m)\u001b[0m  \u001b[0;31m# Read all content\u001b[0m\u001b[0;34m\u001b[0m\u001b[0;34m\u001b[0m\u001b[0m\n\u001b[1;32m      6\u001b[0m \u001b[0;34m\u001b[0m\u001b[0m\n",
            "\u001b[0;31mFileNotFoundError\u001b[0m: [Errno 2] No such file or directory: 'source.txt'"
          ]
        }
      ]
    },
    {
      "cell_type": "code",
      "source": [
        "#Que.5  catch and handle division by zero error in Python\n",
        "\n",
        "try:\n",
        "    a = int(input(\"Enter numerator: \"))\n",
        "    b = int(input(\"Enter denominator: \"))\n",
        "    result = a / b\n",
        "    print(\"Result:\", result)\n",
        "\n",
        "except ZeroDivisionError:\n",
        "    print(\"Error: Cannot divide by zero.\")\n",
        "\n",
        "except ValueError:\n",
        "    print(\"Error: Please enter valid numbers.\")\n"
      ],
      "metadata": {
        "id": "aaD-yBLEKVR0"
      },
      "execution_count": null,
      "outputs": []
    },
    {
      "cell_type": "code",
      "source": [
        "#Que.6  Python program that logs an error message to a log file when a division by zero exception occurs\n",
        "import logging\n",
        "\n",
        "# Configure logging\n",
        "logging.basicConfig(filename='error.log', level=logging.ERROR,\n",
        "                    format='%(asctime)s - %(levelname)s - %(message)s')\n",
        "\n",
        "try:\n",
        "    # Division operation\n",
        "    a = int(input(\"Enter numerator: \"))\n",
        "    b = int(input(\"Enter denominator: \"))\n",
        "    result = a / b\n",
        "    print(\"Result:\", result)\n",
        "\n",
        "except ZeroDivisionError as e:\n",
        "    print(\"Cannot divide by zero.\")\n",
        "    logging.error(\"Division by zero occurred: %s\", e)\n",
        "\n",
        "except ValueError as e:\n",
        "    print(\"Invalid input.\")\n",
        "    logging.error(\"Invalid input: %s\", e)\n",
        "\n",
        "\n"
      ],
      "metadata": {
        "id": "Es4U8TXoLBES"
      },
      "execution_count": null,
      "outputs": []
    },
    {
      "cell_type": "code",
      "source": [
        "#Que.7  log information at different levels (INFO, ERROR, WARNING) in Python using the logging module\n",
        "import logging\n",
        "logging.basicConfig(level=logging.INFO, format='%(asctime)s - %(levelname)s - %(message)s')\n",
        "logging.info(\"This is an informational message.\")\n",
        "logging.warning(\"This is a warning message.\")\n",
        "logging.error(\"This is an error message.\")"
      ],
      "metadata": {
        "id": "6v-o_E6XL_Cv"
      },
      "execution_count": null,
      "outputs": []
    },
    {
      "cell_type": "code",
      "source": [
        "#Que.8 handle a file opening error using exception handling\n",
        "try:\n",
        "    # Trying to open a file that may not exist\n",
        "    file = open(\"data.txt\", \"r\")\n",
        "    content = file.read()\n",
        "    print(\"File content:\\n\", content)\n",
        "    file.close()\n",
        "\n",
        "except FileNotFoundError:\n",
        "    print()\n",
        "\n",
        "except PermissionError:\n",
        "    print()\n",
        "\n",
        "except Exception as e:\n",
        "    print()\n"
      ],
      "metadata": {
        "id": "gOGkDAH_Mzst"
      },
      "execution_count": null,
      "outputs": []
    },
    {
      "cell_type": "code",
      "source": [
        "#Que.9  a file line by line and store its content in a list in Python\n",
        "# Open the file in read mode\n",
        "with open(\"example.txt\", \"r\") as file:\n",
        "    lines_list = [line.strip() for line in file]  # strip() removes newline characters\n",
        "\n",
        "# Print the list\n",
        "print(lines_list)\n"
      ],
      "metadata": {
        "id": "U6IJ5dwNNJR8"
      },
      "execution_count": null,
      "outputs": []
    },
    {
      "cell_type": "code",
      "source": [
        "#Que.10  append data to an existing file in Python\n",
        "# Open the file in append mode\n",
        "file_path = 'your_file.txt'\n",
        "data_to_append = 'This is the new content to add.\\n'\n",
        "\n",
        "with open(file_path, 'a') as file:\n",
        "    file.write(data_to_append)\n",
        "\n",
        "\n",
        "\n",
        "\n"
      ],
      "metadata": {
        "id": "9kUNieSXNcBn"
      },
      "execution_count": 3,
      "outputs": []
    },
    {
      "cell_type": "code",
      "source": [
        "#Que.11  Python program that uses a try-except block to handle an error when attempting to access a\n",
        "#dictionary key that doesn't exist.\n",
        "\n",
        "# Sample dictionary\n",
        "student = {\n",
        "    \"name\": \"Amit\",\n",
        "    \"age\": 20\n",
        "}\n",
        "\n",
        "try:\n",
        "# Attempt to access a non-existent key\n",
        "    print(\"Student's grade is:\", student[\"grade\"])\n",
        "\n",
        "except KeyError:\n",
        "    print()\n",
        "\n"
      ],
      "metadata": {
        "colab": {
          "base_uri": "https://localhost:8080/"
        },
        "id": "iLWU6wabNzwO",
        "outputId": "855a4777-1a5d-4f7e-d640-71d45ce191c2"
      },
      "execution_count": 8,
      "outputs": [
        {
          "output_type": "stream",
          "name": "stdout",
          "text": [
            "\n"
          ]
        }
      ]
    },
    {
      "cell_type": "code",
      "source": [
        "#Que.12 program that demonstrates using multiple except blocks to handle different types of exceptions\n",
        "\n",
        "try:\n",
        "    # User input for division\n",
        "    a = int(input(\"Enter numerator: \"))\n",
        "    b = int(input(\"Enter denominator: \"))\n",
        "    result = a / b\n",
        "    print(\"Result:\", result)\n",
        "\n",
        "    # Type error example\n",
        "    print(\"Adding number and string:\", a + \"10\")  # This will raise TypeError\n",
        "\n",
        "except ZeroDivisionError:\n",
        "    print()\n",
        "\n",
        "except ValueError:\n",
        "    print()\n",
        "\n",
        "except TypeError:\n",
        "    print()\n",
        "\n",
        "except Exception as e:\n",
        "    print()\n",
        "\n"
      ],
      "metadata": {
        "colab": {
          "base_uri": "https://localhost:8080/"
        },
        "id": "QRhSClsMONyP",
        "outputId": "f3034c8d-ee62-4039-ee64-4c43e1cabd4b"
      },
      "execution_count": 9,
      "outputs": [
        {
          "output_type": "stream",
          "name": "stdout",
          "text": [
            "Enter numerator: 22\n",
            "Enter denominator: 32\n",
            "Result: 0.6875\n",
            "\n"
          ]
        }
      ]
    },
    {
      "cell_type": "code",
      "source": [
        "#Que13 check if a file exists before attempting to read it in Python\n",
        "\n",
        "import os\n",
        "\n",
        "file_path = \"example.txt\"\n",
        "\n",
        "if os.path.exists(file_path):\n",
        "    with open(file_path, \"r\") as file:\n",
        "        content = file.read()\n",
        "        print(content)\n",
        "else:\n",
        "    print()\n"
      ],
      "metadata": {
        "colab": {
          "base_uri": "https://localhost:8080/"
        },
        "id": "8u1knRVSxCr1",
        "outputId": "50a4f8aa-94e2-49e2-ff09-61f3059dd466"
      },
      "execution_count": 10,
      "outputs": [
        {
          "output_type": "stream",
          "name": "stdout",
          "text": [
            "\n",
            "This line is added to the existing file.\n"
          ]
        }
      ]
    },
    {
      "cell_type": "code",
      "source": [
        "#Que.14 program that uses the logging module to log both informational and error messages\n",
        "\n",
        "import logging\n",
        "\n",
        "# Configure logging\n",
        "logging.basicConfig(\n",
        "    filename='app.log',            # Log file name\n",
        "    level=logging.DEBUG,           # Capture all levels from DEBUG and above\n",
        "    format='%(asctime)s - %(levelname)s - %(message)s'\n",
        ")\n",
        "\n",
        "# Example informational message\n",
        "logging.info(\"Program started successfully.\")\n",
        "\n",
        "try:\n",
        "    # Division operation\n",
        "    a = int(input(\"Enter numerator: \"))\n",
        "    b = int(input(\"Enter denominator: \"))\n",
        "    result = a / b\n",
        "    logging.info(\"Division successful. Result = %s\", result)\n",
        "    print(\"Result:\", result)\n",
        "\n",
        "except ZeroDivisionError as e:\n",
        "    logging.error(\"Division by zero error: %s\", e)\n",
        "    print(\"Cannot divide by zero.\")\n",
        "\n",
        "except ValueError as e:\n",
        "    logging.error(\"Invalid input error: %s\", e)\n",
        "    print(\" Please enter valid numbers.\")\n",
        "\n",
        "except Exception as e:\n",
        "    logging.critical(\"Unexpected error occurred: %s\", e)\n",
        "    print(\"An unexpected error occurred.\")\n",
        "\n"
      ],
      "metadata": {
        "colab": {
          "base_uri": "https://localhost:8080/"
        },
        "id": "jQoY591Fxx6H",
        "outputId": "17179c30-77ba-4ba4-ddfa-060356783049"
      },
      "execution_count": null,
      "outputs": [
        {
          "name": "stdout",
          "output_type": "stream",
          "text": [
            "Enter numerator: 25\n"
          ]
        }
      ]
    },
    {
      "cell_type": "code",
      "source": [
        "#Que.15 Demonstrate how to use memory profiling to check the memory usage of a small program\n",
        "\n",
        "@profile\n",
        "def my_function():\n",
        "# Code to be profiled\n",
        "    my_list = []\n",
        "    for i in range(10000):\n",
        "        my_list.append(i)\n",
        "    return my_list\n",
        "\n",
        "# Run the function and check memory usage\n",
        "my_function()"
      ],
      "metadata": {
        "id": "HNxkyW1oz0B-"
      },
      "execution_count": null,
      "outputs": []
    },
    {
      "cell_type": "code",
      "source": [
        "#Que.16 Python program to create and write a list of numbers to a file, one number per line\n",
        "\n",
        "# List of numbers\n",
        "numbers = [10, 20, 30, 40, 50]\n",
        "\n",
        "# Open a file in write mode\n",
        "with open(\"numbers.txt\", \"w\") as file:\n",
        "    for number in numbers:\n",
        "        file.write(str(number) + \"\\n\")  # Convert number to string and write\n"
      ],
      "metadata": {
        "id": "NTLJbeFj3iwY"
      },
      "execution_count": null,
      "outputs": []
    },
    {
      "cell_type": "code",
      "source": [
        "#Que.17 implement a basic logging setup that logs to a file with rotation after 1MB\n",
        "\n",
        "import logging\n",
        "from logging.handlers import RotatingFileHandler\n",
        "\n",
        "# Set up logger\n",
        "logger = logging.getLogger(\"SimpleLogger\")\n",
        "logger.setLevel(logging.INFO)\n",
        "\n",
        "# Create handler with rotation\n",
        "handler = RotatingFileHandler(\n",
        "    \"simple_log.log\",    # Log file name\n",
        "    maxBytes=1 * 1024 * 1024,  # 1 MB size\n",
        "    backupCount=2        # Keep 2 backup files\n",
        ")\n",
        "\n",
        "# Set log format\n",
        "formatter = logging.Formatter('%(asctime)s - %(message)s')\n",
        "handler.setFormatter(formatter)\n",
        "\n",
        "# Add handler to logger\n",
        "logger.addHandler(handler)\n",
        "\n",
        "# Log some messages\n",
        "for i in range(10000):\n",
        "    logger.info(f\"Logging line number {i}\")\n",
        "\n",
        "\n",
        "\n"
      ],
      "metadata": {
        "id": "B9T5UME24xG6"
      },
      "execution_count": null,
      "outputs": []
    },
    {
      "cell_type": "code",
      "source": [
        "#Que.19 program that handles both IndexError and KeyError using a try-except block\n",
        "\n",
        "my_list = [10, 20, 30]\n",
        "my_dict = {'a': 1, 'b': 2}\n",
        "\n",
        "try:\n",
        "# This will cause IndexError\n",
        "print(\"Accessing list item:\", my_list[5])\n",
        "\n",
        "# This will cause KeyError (unreachable due to IndexError above)\n",
        "print(\"Accessing dictionary item:\", my_dict['z'])\n",
        "\n",
        "except IndexError:\n",
        "    print(\"IndexError occurred: List index is out of range.\")\n",
        "\n",
        "except KeyError:\n",
        "    print(\"KeyError occurred: Key not found in dictionary.\")\n",
        "\n"
      ],
      "metadata": {
        "id": "QIYbs6aP6pej"
      },
      "execution_count": null,
      "outputs": []
    },
    {
      "cell_type": "code",
      "source": [
        "#Que.20 open a file and read its contents using a context manager in Python\n",
        "\n",
        "# Open the file in read mode using 'with' (context manager)\n",
        "with open(\"myfile.txt\", \"r\") as file:\n",
        "    contents = file.read()\n",
        "    print(contents)\n"
      ],
      "metadata": {
        "id": "kr4iSwnN8dcX"
      },
      "execution_count": null,
      "outputs": []
    },
    {
      "cell_type": "code",
      "source": [
        "#Que.21 Python program that reads a file and prints the number of occurrences of a specific word\n",
        "\n",
        "search_word = input(\"Enter the word to count: \")\n",
        "with open(\"myfile.txt\", \"r\") as file:\n",
        "    content = file.read()\n",
        "    content = content.lower()\n",
        "    search_word = search_word.lower()\n",
        "    word_count = content.split().count(search_word)\n",
        "\n",
        "    print(f\"The word '{search_word}' occurred {word_count} times in the file.\")\n"
      ],
      "metadata": {
        "id": "LYwUmCUi80Rv"
      },
      "execution_count": null,
      "outputs": []
    },
    {
      "cell_type": "code",
      "source": [
        "#Que.22 check if a file is empty before attempting to read its contents\n",
        "\n",
        "import os\n",
        "\n",
        "file_path = \"myfile.txt\"\n",
        "\n",
        "if not os.path.exists(file_path):\n",
        "    print(\" File does not exist.\")\n",
        "else:\n",
        "\n",
        "    if os.path.getsize(file_path) == 0:\n",
        "        print(\"File exists but is empty.\")\n",
        "    else:\n",
        "        with open(file_path, \"r\") as file:\n",
        "            content = file.read()\n",
        "            print(\"File content:\\n\")\n",
        "            print(content)\n"
      ],
      "metadata": {
        "id": "8yOTQp2k_kTp"
      },
      "execution_count": null,
      "outputs": []
    },
    {
      "cell_type": "code",
      "source": [
        "#Que.23 Python program that writes to a log file when an error occurs during file handling.\n",
        "\n",
        "import os\n",
        "import logging\n",
        "\n",
        "# Setup logging configuration\n",
        "logging.basicConfig(\n",
        "    filename=\"file_errors.log\",\n",
        "    level=logging.ERROR,\n",
        "    format='%(asctime)s - %(levelname)s - %(message)s'\n",
        ")\n",
        "\n",
        "file_path = \"myfile.txt\"\n",
        "\n",
        "try:\n",
        "\n",
        "    if not os.path.exists(file_path):\n",
        "        raise FileNotFoundError(f\"The file '{file_path}' does not exist.\")\n",
        "\n",
        "    if os.path.getsize(file_path) == 0:\n",
        "        print(f\"The file '{file_path}' is empty.\")\n",
        "    else:\n",
        "\n",
        "        with open(file_path, \"r\") as file:\n",
        "            content = file.read()\n",
        "            print(\" File content:\\n\")\n",
        "            print(content)\n",
        "\n",
        "except FileNotFoundError as e:\n",
        "    print()\n",
        "    logging.error(e)\n",
        "\n",
        "except Exception as e:\n",
        "    print()\n",
        "    logging.error(f\"{e}\")\n",
        "\n"
      ],
      "metadata": {
        "id": "Hkx-5mjeAl7i"
      },
      "execution_count": null,
      "outputs": []
    }
  ]
}